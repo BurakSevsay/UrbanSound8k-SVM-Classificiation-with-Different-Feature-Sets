{
 "cells": [
  {
   "cell_type": "markdown",
   "id": "a5e6fb65",
   "metadata": {},
   "source": [
    "# MMI 702 PROJECT - PART1 : FEATURE EXTRACTION "
   ]
  },
  {
   "cell_type": "code",
   "execution_count": null,
   "id": "485e9534",
   "metadata": {},
   "outputs": [],
   "source": [
    "!pip install librosa\n",
    "!pip install praat-parselmouth"
   ]
  },
  {
   "cell_type": "code",
   "execution_count": null,
   "id": "ffd4f431",
   "metadata": {},
   "outputs": [],
   "source": [
    "import os\n",
    "import numpy as np\n",
    "import pandas as pd\n",
    "import librosa\n",
    "import librosa.display\n",
    "import pickle\n",
    "import glob\n",
    "import parselmouth\n",
    "import statistics\n",
    "from parselmouth.praat import call\n",
    "import math\n",
    "\n",
    "%matplotlib inline"
   ]
  },
  {
   "cell_type": "code",
   "execution_count": null,
   "id": "b9a38117",
   "metadata": {},
   "outputs": [],
   "source": [
    "#Get Metadata of the Dataset, it contains labels of the auido files in the dataset\n",
    "meta_data = pd.read_csv(\"metadata/UrbanSound8K.csv\")  \n",
    "\n",
    "np.shape(meta_data) # (8732, 8)\n",
    "meta_data.head()\n",
    "\n",
    "classes = list(meta_data['class'].unique()) "
   ]
  },
  {
   "cell_type": "code",
   "execution_count": null,
   "id": "e9db5652",
   "metadata": {},
   "outputs": [],
   "source": [
    "#Feature extraction function for mfcc (13 mfcc feature), librosa library is used\n",
    "def feature_extractor_mfcc(file_name, kwargs, scale=True,padding=False,max_pad=None,n=13):\n",
    "    n = kwargs['n']\n",
    "    '''\n",
    "    Function to extract features from the audio file\n",
    "    Does the following things using Librosa library:\n",
    "        - Converts the sampling rate to 22.05 KHz\n",
    "        - Normalize the Bit-depth values of the audio\n",
    "        - Merge the audio channels into a Mono (single) channel\n",
    "    Parameters: \n",
    "    Input:\n",
    "        file_name : string; \n",
    "                    Path of the file to be processed \n",
    "        scale : False; \n",
    "                True when 1D features are required calculated \n",
    "                by taking mean along the axis\n",
    "        padding : False; \n",
    "                  True when 2D features are required with padding\n",
    "        max_pad : None [int]; \n",
    "                  Maxium size of a padded image/array. \n",
    "                  Required when padding is set to True\n",
    "        n = 40 [int]; \n",
    "            Number of MFCCs to return          \n",
    "    Output:\n",
    "        mfccs = array of mfccs features.\n",
    "                (1D when scaling = True\n",
    "                 2D when padding = True)   \n",
    "    '''\n",
    "    try:        \n",
    "        audio, sample_rate = librosa.load(file_name, \n",
    "                                          res_type='kaiser_fast') \n",
    "        \n",
    "        mfccs = librosa.feature.mfcc(y = audio, \n",
    "                                     sr = sample_rate, \n",
    "                                     n_mfcc = n) \n",
    "            \n",
    "        if padding:\n",
    "            pad_width = max_pad - mfccs.shape[1]\n",
    "            mfccs = np.pad(mfccs, \n",
    "                           pad_width=((0, 0), (0, pad_width)), \n",
    "                           mode='constant')\n",
    "            \n",
    "        if scale: \n",
    "            mfccs = np.mean(mfccs.T,axis=0)\n",
    "        \n",
    "    except Exception as e:\n",
    "        print(\"Error encountered while parsing file: \", file_name)\n",
    "        return None \n",
    "     \n",
    "    return mfccs"
   ]
  },
  {
   "cell_type": "code",
   "execution_count": null,
   "id": "19ab174a",
   "metadata": {},
   "outputs": [],
   "source": [
    "#Feature extraction function for hnr, parselmouth library is used\n",
    "def feature_extractor_hnr(file_name, kwargs):\n",
    "\n",
    "    try:\n",
    "        sound = parselmouth.Sound(file_name) # read the sound\n",
    "    except Exception as e:\n",
    "        print(\"HNR: Error encountered while parsing file: \", file_name)\n",
    "        return 0\n",
    "        \n",
    "    harmonicity = call(sound, \"To Harmonicity (cc)\", 0.01, 75, 0.1, 1.0)\n",
    "    hnr = call(harmonicity, \"Get mean\", 0, 0) \n",
    "    if math.isnan(hnr):\n",
    "        hnr = 100\n",
    "    return hnr\n"
   ]
  },
  {
   "cell_type": "code",
   "execution_count": null,
   "id": "24e53568",
   "metadata": {},
   "outputs": [],
   "source": [
    "#Feature extraction function for mean frequency, parselmouth library is used\n",
    "def feature_extractor_meanf0(file_name, kwargs):\n",
    "\n",
    "    try:\n",
    "        sound = parselmouth.Sound(file_name) # read the sound\n",
    "    except Exception as e:\n",
    "        print(\"Meanf0: Error encountered while parsing file: \", file_name)\n",
    "        return 0\n",
    "\n",
    "    pitch = call(sound, \"To Pitch\", 0.0, 100, 10000) #create a praat pitch object\n",
    "    meanF0 = call(pitch, \"Get mean\", 0, 0, \"Hertz\") # get mean pitch\n",
    "    if math.isnan(meanF0):\n",
    "        meanF0 = 0\n",
    "    return meanF0"
   ]
  },
  {
   "cell_type": "code",
   "execution_count": null,
   "id": "e6d236eb",
   "metadata": {},
   "outputs": [],
   "source": [
    "#Feature extraction function for standard deviation of the signal in terms of frequency, parselmouth library is used\n",
    "def feature_extractor_stdevf0(file_name, kwargs):\n",
    "\n",
    "    try:\n",
    "        sound = parselmouth.Sound(file_name) # read the sound\n",
    "    except Exception as e:\n",
    "        print(\"stdf0: Error encountered while parsing file: \", file_name)\n",
    "        return 0\n",
    "        \n",
    "    pitch = call(sound, \"To Pitch\", 0.0, 100, 10000) #create a praat pitch object\n",
    "    stdevF0 = call(pitch, \"Get standard deviation\", 0 ,0, \"Hertz\") # get standard deviation\n",
    "    if math.isnan(stdevF0):\n",
    "        stdevF0 = 0\n",
    "    return stdevF0"
   ]
  },
  {
   "cell_type": "code",
   "execution_count": null,
   "id": "cf8ca1c2",
   "metadata": {},
   "outputs": [],
   "source": [
    "#Feature extraction function for zero crossing rate, librosa library is used\n",
    "def feature_extractor_zcr(file_name, kwargs):\n",
    "\n",
    "    audio, sample_rate = librosa.load(file_name, \n",
    "                                      res_type='kaiser_fast') \n",
    "\n",
    "    zcr = librosa.feature.zero_crossing_rate(y = audio) \n",
    "    zcr = np.mean(zcr.T,axis=0)\n",
    "    return zcr"
   ]
  },
  {
   "cell_type": "code",
   "execution_count": null,
   "id": "93efcc31",
   "metadata": {},
   "outputs": [],
   "source": [
    "#Feature extraction function for spectral_centroid, librosa library is used\n",
    "def feature_extractor_sc(file_name, kwargs):\n",
    "\n",
    "    audio, sample_rate = librosa.load(file_name, \n",
    "                                      res_type='kaiser_fast') \n",
    "    \n",
    "    sc = librosa.feature.spectral_centroid(y=audio, sr=sample_rate)\n",
    "    mean_sc = np.mean(sc)\n",
    "    mean_sc = mean_sc/5000\n",
    "    return mean_sc"
   ]
  },
  {
   "cell_type": "code",
   "execution_count": null,
   "id": "65c57c08",
   "metadata": {},
   "outputs": [],
   "source": [
    "#Feature extraction function for local jitter, parselmouth library is used\n",
    "def feature_extractor_localJitter(file_name, kwargs):\n",
    "\n",
    "    try:\n",
    "        sound = parselmouth.Sound(file_name) # read the sound\n",
    "    except Exception as e:\n",
    "        print(\"localjitter: Error encountered while parsing file: \", file_name)\n",
    "        return 0\n",
    "        \n",
    "    pointProcess = call(sound, \"To PointProcess (periodic, cc)\", 50, 10000)\n",
    "    localJitter = call(pointProcess, \"Get jitter (local)\", 0, 0, 0.0001, 0.02, 1.3)\n",
    "    if math.isnan(localJitter):\n",
    "        localJitter = 0\n",
    "    return localJitter"
   ]
  },
  {
   "cell_type": "code",
   "execution_count": null,
   "id": "2f7bfbec",
   "metadata": {},
   "outputs": [],
   "source": [
    "#Feature extraction function for local shimmer, parselmouth library is used\n",
    "def feature_extractor_localShimmer(file_name, kwargs):\n",
    "\n",
    "    try:\n",
    "        sound = parselmouth.Sound(file_name) # read the sound\n",
    "    except Exception as e:\n",
    "        print(\"localjitter: Error encountered while parsing file: \", file_name)\n",
    "        return 0\n",
    "        \n",
    "    pointProcess = call(sound, \"To PointProcess (periodic, cc)\", 50, 10000)\n",
    "    localShimmer =  call([sound, pointProcess], \"Get shimmer (local)\", 0, 0, 0.0001, 0.02, 1.3, 1.6)\n",
    "    if math.isnan(localShimmer):\n",
    "        localShimmer = 0\n",
    "    return localShimmer"
   ]
  },
  {
   "cell_type": "code",
   "execution_count": null,
   "id": "13b3506b",
   "metadata": {},
   "outputs": [],
   "source": [
    "def extract_custom_feature(feature_extractor, **kwargs):\n",
    "    feat_list_sc = []\n",
    "    meta_data = pd.read_csv(\"metadata/UrbanSound8K.csv\")  \n",
    "    classes = list(meta_data['class'].unique()) \n",
    "    for index, row in meta_data.iterrows():\n",
    "        file_name = os.path.join(os.path.abspath('audio/'),\n",
    "                                 'fold'+str(row[\"fold\"])+'/',\n",
    "                                 str(row[\"slice_file_name\"]))\n",
    "        class_label = row[\"class\"]\n",
    "        data_sc = feature_extractor(file_name, kwargs)\n",
    "        feat_list_sc.append([data_sc, class_label])\n",
    "\n",
    "    features_1D = pd.DataFrame(feat_list_sc, columns=['feature','class_label'])\n",
    "    return features_1D"
   ]
  },
  {
   "cell_type": "markdown",
   "id": "991836b9",
   "metadata": {},
   "source": [
    "### Functions to extract features from dataset and save it in the .pkl format (contains pandas.DataFrame)"
   ]
  },
  {
   "cell_type": "code",
   "execution_count": null,
   "id": "c2adc16c",
   "metadata": {},
   "outputs": [],
   "source": [
    "def extract_mfcc_13():\n",
    "    features_1D_mfcc_13 = extract_custom_feature(feature_extractor_mfcc, n=13)\n",
    "\n",
    "    print('Processed ', len(features_1D_mfcc_13), ' files')\n",
    "    print('Output Feature shape ',np.shape(features_1D_mfcc_13.iloc[0,0]))\n",
    "    features_1D_mfcc_13.to_pickle(\"./features/mfcc_13_features.pk1\")"
   ]
  },
  {
   "cell_type": "code",
   "execution_count": null,
   "id": "409eb79a",
   "metadata": {},
   "outputs": [],
   "source": [
    "def extract_mfcc_32():\n",
    "    features_1D_mfcc_32 = extract_custom_feature(feature_extractor_mfcc, n=32)\n",
    "\n",
    "    print('Processed ', len(features_1D_mfcc_32), ' files')\n",
    "    print('Output Feature shape ',np.shape(features_1D_mfcc_32.iloc[0,0]))\n",
    "    features_1D_mfcc_32.to_pickle(\"./features/mfcc_32_features.pk1\")"
   ]
  },
  {
   "cell_type": "code",
   "execution_count": null,
   "id": "4eda7b00",
   "metadata": {},
   "outputs": [],
   "source": [
    "def extract_hnr():\n",
    "    features_1D_hnr = extract_custom_feature(feature_extractor_hnr)\n",
    "\n",
    "    print('Processed ', len(features_1D_hnr), ' files')\n",
    "    print('Output Feature shape ',np.shape(features_1D_hnr.iloc[0,0]))\n",
    "    features_1D_hnr.to_pickle(\"./features/hnr_features.pk1\")"
   ]
  },
  {
   "cell_type": "code",
   "execution_count": null,
   "id": "2d218b6b",
   "metadata": {},
   "outputs": [],
   "source": [
    "def extract_localJitter():\n",
    "    features_1D_localJitter = extract_custom_feature(feature_extractor_localJitter)\n",
    "\n",
    "    print('Processed ', len(features_1D_localJitter), ' files')\n",
    "    print('Output Feature shape ',np.shape(features_1D_localJitter.iloc[0,0]))\n",
    "    features_1D_localJitter.to_pickle(\"./features/localJitter_features.pk1\")"
   ]
  },
  {
   "cell_type": "code",
   "execution_count": null,
   "id": "93f42eba",
   "metadata": {},
   "outputs": [],
   "source": [
    "def extract_meanf0():\n",
    "    features_1D_meanf0 = extract_custom_feature(feature_extractor_meanf0)\n",
    "\n",
    "    print('Processed ', len(features_1D_meanf0), ' files')\n",
    "    print('Output Feature shape ',np.shape(features_1D_meanf0.iloc[0,0]))\n",
    "    features_1D_meanf0.to_pickle(\"./features/meanf0_features.pk1\")"
   ]
  },
  {
   "cell_type": "code",
   "execution_count": null,
   "id": "b8bbd964",
   "metadata": {},
   "outputs": [],
   "source": [
    "def extract_stdevf0():\n",
    "    features_1D_stdevf0 = extract_custom_feature(feature_extractor_stdevf0)\n",
    "\n",
    "    print('Processed ', len(features_1D_stdevf0), ' files')\n",
    "    print('Output Feature shape ',np.shape(features_1D_stdevf0.iloc[0,0]))\n",
    "    features_1D_stdevf0.to_pickle(\"./features/stdevf0_features.pk1\")"
   ]
  },
  {
   "cell_type": "code",
   "execution_count": null,
   "id": "fd0ce5aa",
   "metadata": {},
   "outputs": [],
   "source": [
    "def extract_zero_crossing_rate():\n",
    "    features_1D_zcr = extract_custom_feature(feature_extractor_zcr)\n",
    "\n",
    "    print('Processed ', len(features_1D_zcr), ' files')\n",
    "    print('Output Feature shape ',np.shape(features_1D_zcr.iloc[0,0]))\n",
    "    features_1D_zcr.to_pickle(\"./features/zcr_features.pk1\")"
   ]
  },
  {
   "cell_type": "code",
   "execution_count": null,
   "id": "c96c5e94",
   "metadata": {},
   "outputs": [],
   "source": [
    "def extract_spectral_centroid():\n",
    "    features_1D_sc = extract_custom_feature(feature_extractor_sc)\n",
    "\n",
    "    print('Processed ', len(features_1D_sc), ' files')\n",
    "    print('Output Feature shape ',np.shape(features_1D_sc.iloc[0,0]))\n",
    "    features_1D_sc.to_pickle(\"./features/sc_features.pk1\")"
   ]
  },
  {
   "cell_type": "code",
   "execution_count": null,
   "id": "e4571aa3",
   "metadata": {},
   "outputs": [],
   "source": [
    "#Call feature extractors\n",
    "extract_mfcc_13()\n",
    "print(\"13 MFCC extraction DONE\")\n",
    "extract_mfcc_32()\n",
    "print(\"32 MFCC extraction DONE\")\n",
    "extract_hnr()\n",
    "print(\"hnr extraction DONE\")"
   ]
  },
  {
   "cell_type": "code",
   "execution_count": null,
   "id": "238e5e66",
   "metadata": {},
   "outputs": [],
   "source": [
    "#Call feature extractors\n",
    "extract_zero_crossing_rate()\n",
    "print(\"Zero crossing rate extraction DONE\")\n",
    "extract_spectral_centroid()\n",
    "print(\"Spectral Centroid extraction DONE\")"
   ]
  },
  {
   "cell_type": "code",
   "execution_count": null,
   "id": "fbcf8a82",
   "metadata": {},
   "outputs": [],
   "source": [
    "# extract_meanf0()\n",
    "# print(\"meanf0 extraction DONE\")\n",
    "# extract_stdevf0()\n",
    "# print(\"stdevf0 extraction DONE\")\n",
    "# extract_localJitter()\n",
    "# print(\"stdevf0 extraction DONE\")"
   ]
  }
 ],
 "metadata": {
  "kernelspec": {
   "display_name": "Python 3 (ipykernel)",
   "language": "python",
   "name": "python3"
  },
  "language_info": {
   "codemirror_mode": {
    "name": "ipython",
    "version": 3
   },
   "file_extension": ".py",
   "mimetype": "text/x-python",
   "name": "python",
   "nbconvert_exporter": "python",
   "pygments_lexer": "ipython3",
   "version": "3.9.7"
  }
 },
 "nbformat": 4,
 "nbformat_minor": 5
}
