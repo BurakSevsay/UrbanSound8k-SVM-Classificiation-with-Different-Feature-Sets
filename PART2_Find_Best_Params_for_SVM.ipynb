{
 "cells": [
  {
   "cell_type": "markdown",
   "id": "36598ca5",
   "metadata": {},
   "source": [
    "# MMI 702 PROJECT - PART2 : GRID_SEARCH FOR SVM PART"
   ]
  },
  {
   "cell_type": "code",
   "execution_count": null,
   "id": "ffd4f431",
   "metadata": {},
   "outputs": [],
   "source": [
    "import os\n",
    "import numpy as np\n",
    "import pandas as pd\n",
    "import pickle\n",
    "from sklearn.preprocessing import LabelEncoder\n",
    "import joblib\n",
    "import math\n",
    "from sklearn import svm\n",
    "from sklearn.model_selection import GridSearchCV\n",
    "import warnings\n",
    "warnings.filterwarnings('ignore')\n",
    "\n",
    "%matplotlib inline"
   ]
  },
  {
   "cell_type": "code",
   "execution_count": null,
   "id": "15d59e31",
   "metadata": {},
   "outputs": [],
   "source": [
    "#Read extracted features in part1 notebook\n",
    "features_1D_mfcc_13 = pd.read_pickle(\"./features/mfcc_13_features.pk1\")\n",
    "features_1D_mfcc_32 = pd.read_pickle(\"./features/mfcc_32_features.pk1\")"
   ]
  },
  {
   "cell_type": "code",
   "execution_count": null,
   "id": "4795cd9b",
   "metadata": {},
   "outputs": [],
   "source": [
    "#Read extracted features in part1 notebook\n",
    "features_1D_only_hnr = pd.read_pickle(\"./features/hnr_features.pk1\")\n",
    "features_1D_only_zcr = pd.read_pickle(\"./features/zcr_features.pk1\")\n",
    "\n",
    "#Examples for other features\n",
    "# features_1D_only_meanf0 = pd.read_pickle(\"./features/meanf0_features.pk1\")\n",
    "# features_1D_only_stdevf0 = pd.read_pickle(\"./features/stdevf0_features.pk1\")\n",
    "# features_1D_only_sc = pd.read_pickle(\"./features/sc_features.pk1\")\n",
    "# features_1D_only_localJitter = pd.read_pickle(\"./features/localJitter_features.pk1\")\n",
    "# features_1D_only_localShimmer = pd.read_pickle(\"./features/localShimmer_features.pk1\")"
   ]
  },
  {
   "cell_type": "code",
   "execution_count": null,
   "id": "81512c9d",
   "metadata": {},
   "outputs": [],
   "source": [
    "features_1D_mfcc_copy_0 = pd.read_pickle(\"./features/mfcc_13_features.pk1\")\n",
    "features_1D_mfcc_copy_1 = pd.read_pickle(\"./features/mfcc_13_features.pk1\")\n",
    "\n",
    "features_1D_mfcc_32_copy_0 = pd.read_pickle(\"./features/mfcc_32_features.pk1\")\n",
    "features_1D_mfcc_32_copy_1 = pd.read_pickle(\"./features/mfcc_32_features.pk1\")"
   ]
  },
  {
   "cell_type": "code",
   "execution_count": null,
   "id": "f0b946ed",
   "metadata": {},
   "outputs": [],
   "source": [
    "#Convert features to desired form. Convert from pd.DataFrames to numpy arrays. \n",
    "# Also merge some features together. Variable names have documentation value. \n",
    "\n",
    "X_1D_mfcc_13 = np.array(features_1D_mfcc_13.feature.tolist())\n",
    "y_1D_mfcc_13 = np.array(features_1D_mfcc_13.class_label.tolist())\n",
    "\n",
    "X_1D_mfcc_32 = np.array(features_1D_mfcc_32.feature.tolist())\n",
    "y_1D_mfcc_32 = np.array(features_1D_mfcc_32.class_label.tolist())\n",
    "\n",
    "X_1D_mfcc_cpy_0 = np.array(features_1D_mfcc_copy_0.feature.tolist())\n",
    "X_1D_hnr_ = np.array(features_1D_only_hnr.feature.tolist())\n",
    "X_1D_zcr_ = np.array(features_1D_only_zcr.feature.tolist())\n",
    "X_1D_hnr_ = np.c_[X_1D_mfcc_cpy_0, X_1D_hnr_]\n",
    "X_1D_hnr_zcr_13 = np.c_[X_1D_hnr_,X_1D_zcr_]\n",
    "y_1D_hnr_zcr_13 = np.array(features_1D_only_hnr.class_label.tolist())\n",
    "\n",
    "\n",
    "X_1D_mfcc_32_cpy_0 = np.array(features_1D_mfcc_32_copy_0.feature.tolist())\n",
    "X_1D_hnr = np.array(features_1D_only_hnr.feature.tolist())\n",
    "X_1D_zcr = np.array(features_1D_only_zcr.feature.tolist())\n",
    "X_1D_hnr = np.c_[X_1D_mfcc_32_cpy_0, X_1D_hnr]\n",
    "X_1D_hnr_zcr_32 = np.c_[X_1D_hnr,X_1D_zcr]\n",
    "y_1D_hnr_zcr_32 = np.array(features_1D_only_hnr.class_label.tolist())\n",
    "\n",
    "print(\"Mfcc_13 shape:\", X_1D_mfcc_13.shape)\n",
    "print(\"Mfcc_32 shape:\", X_1D_mfcc_32.shape)\n",
    "print(\"Mfcc_13_hnr_zcr shape:\", X_1D_hnr_zcr_13.shape)\n",
    "print(\"Mfcc_32_hnr_zcr shape:\", X_1D_hnr_zcr_32.shape)"
   ]
  },
  {
   "cell_type": "code",
   "execution_count": null,
   "id": "c0c068b8",
   "metadata": {},
   "outputs": [],
   "source": [
    "# Encode the classification labels\n",
    "label_encoder = LabelEncoder()"
   ]
  },
  {
   "cell_type": "code",
   "execution_count": null,
   "id": "3e4df469",
   "metadata": {},
   "outputs": [],
   "source": [
    "#search the hyperparameter space to find the best model\n",
    "tuned_parameters = [{'kernel': ['rbf'], \n",
    "                     'gamma': [1e-2, 1e-3, 1e-4, 1e-5],\n",
    "                     'C': [1, 10 ,20,30,40,50]}]\n",
    "#                    , {'kernel': ['linear'], 'C': [1, 10, 100, 1000]}]\n",
    "\n",
    "searchpara_mfcc_13_best = GridSearchCV(svm.SVC(), tuned_parameters)\n",
    "searchpara_mfcc_13_best.fit(X_1D_hnr_zcr_13, y_1D_hnr_zcr_13)\n",
    "print(searchpara_mfcc_13_best.best_params_)\n",
    "\n",
    "searchpara_mfcc_32_best = GridSearchCV(svm.SVC(), tuned_parameters)\n",
    "searchpara_mfcc_32_best.fit(X_1D_hnr_zcr_32, y_1D_hnr_zcr_32)\n",
    "print(searchpara_mfcc_32_best.best_params_)\n",
    "\n",
    "searchpara_mfcc_13 = GridSearchCV(svm.SVC(), tuned_parameters)\n",
    "searchpara_mfcc_13.fit(X_1D_mfcc_13, y_1D_mfcc_13)\n",
    "print(searchpara_mfcc_13.best_params_)\n",
    "\n",
    "searchpara_mfcc_32 = GridSearchCV(svm.SVC(), tuned_parameters)\n",
    "searchpara_mfcc_32.fit(X_1D_mfcc_32, y_1D_mfcc_32)\n",
    "print(searchpara_mfcc_32.best_params_)"
   ]
  },
  {
   "cell_type": "code",
   "execution_count": null,
   "id": "8e0eee16",
   "metadata": {},
   "outputs": [],
   "source": [
    "#Save parameters to .pkl files.\n",
    "joblib.dump(searchpara_mfcc_13, './params/params_13_mfcc.pkl')\n",
    "joblib.dump(searchpara_mfcc_32, './params/params_32_mfcc.pkl')\n",
    "joblib.dump(searchpara_mfcc_13_best, './params/params_13_mfcc_hnr_zcr.pkl')\n",
    "joblib.dump(searchpara_mfcc_32_best, './params/params_32_mfcc_hnr_zcr.pkl')"
   ]
  }
 ],
 "metadata": {
  "kernelspec": {
   "display_name": "Python 3 (ipykernel)",
   "language": "python",
   "name": "python3"
  },
  "language_info": {
   "codemirror_mode": {
    "name": "ipython",
    "version": 3
   },
   "file_extension": ".py",
   "mimetype": "text/x-python",
   "name": "python",
   "nbconvert_exporter": "python",
   "pygments_lexer": "ipython3",
   "version": "3.9.7"
  }
 },
 "nbformat": 4,
 "nbformat_minor": 5
}
